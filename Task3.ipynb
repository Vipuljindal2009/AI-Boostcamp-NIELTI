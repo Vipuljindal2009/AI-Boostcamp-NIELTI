{
  "nbformat": 4,
  "nbformat_minor": 0,
  "metadata": {
    "colab": {
      "provenance": []
    },
    "kernelspec": {
      "name": "python3",
      "display_name": "Python 3"
    },
    "language_info": {
      "name": "python"
    }
  },
  "cells": [
    {
      "cell_type": "code",
      "execution_count": 3,
      "metadata": {
        "colab": {
          "base_uri": "https://localhost:8080/"
        },
        "id": "MDRMbQfni9gl",
        "outputId": "6df865db-1d48-4cd6-9aa4-5228bf367178"
      },
      "outputs": [
        {
          "output_type": "stream",
          "name": "stdout",
          "text": [
            "Give me the first number: 15\n",
            "And now the second one: 5\n",
            "👉 Here's the answer: 5 times 3 equals 75\n"
          ]
        }
      ],
      "source": [
        "first_input = int(input(\"Give me the first number: \"))\n",
        "second_input = int(input(\"And now the second one: \"))\n",
        "output = first_input * second_input\n",
        "print(f\"👉 Here's the answer: {first_input} times {second_input} equals {output}\")"
      ]
    }
  ]
}
