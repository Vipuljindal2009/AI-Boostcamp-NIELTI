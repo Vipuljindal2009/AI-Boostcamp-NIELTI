{
  "nbformat": 4,
  "nbformat_minor": 0,
  "metadata": {
    "colab": {
      "provenance": []
    },
    "kernelspec": {
      "name": "python3",
      "display_name": "Python 3"
    },
    "language_info": {
      "name": "python"
    }
  },
  "cells": [
    {
      "cell_type": "code",
      "execution_count": 1,
      "metadata": {
        "colab": {
          "base_uri": "https://localhost:8080/"
        },
        "id": "e1_3GrbdwOYG",
        "outputId": "6398d64f-c860-44c1-c7db-6455a5d255ce"
      },
      "outputs": [
        {
          "output_type": "stream",
          "name": "stdout",
          "text": [
            "Welcome to my first Python notebook!"
          ]
        }
      ],
      "source": [
        "# Displaying a custom welcome message\n",
        "message = \"Welcome to my first Python notebook!\"\n",
        "print(message)"
      ]
    }
  ]
}
